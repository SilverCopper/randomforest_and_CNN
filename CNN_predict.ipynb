{
 "cells": [
  {
   "cell_type": "markdown",
   "metadata": {},
   "source": [
    "## **基于卷积神经网络的结合位点预测**\n"
   ]
  },
  {
   "cell_type": "markdown",
   "metadata": {},
   "source": [
    "#### **1. 导入所有需要的模块**"
   ]
  },
  {
   "cell_type": "code",
   "execution_count": 1,
   "metadata": {},
   "outputs": [],
   "source": [
    "import os\n",
    "import math\n",
    "import torch\n",
    "import random\n",
    "import numpy as np\n",
    "import pandas as pd\n",
    "from torch import nn\n",
    "from tqdm import tqdm\n",
    "from torch.utils.data import DataLoader, TensorDataset\n",
    "from sklearn.model_selection import train_test_split\n",
    "from sklearn.metrics import accuracy_score, classification_report\n"
   ]
  },
  {
   "cell_type": "markdown",
   "metadata": {},
   "source": [
    "#### **2. 设置全局的随机seed，确保结果的可复现性**"
   ]
  },
  {
   "cell_type": "code",
   "execution_count": 2,
   "metadata": {},
   "outputs": [],
   "source": [
    "def all_seed(seed = 24):\n",
    "    np.random.seed(seed)\n",
    "    random.seed(seed)\n",
    "    # CPU\n",
    "    torch.manual_seed(seed) \n",
    "    # GPU\n",
    "    if torch.cuda.is_available():\n",
    "        torch.cuda.manual_seed_all(seed)\n",
    "        torch.cuda.manual_seed(seed) \n",
    "    # python 全局\n",
    "    os.environ['PYTHONHASHSEED'] = str(seed) \n",
    "    # cudnn\n",
    "    torch.backends.cudnn.deterministic = True\n",
    "    torch.backends.cudnn.benchmark = False\n",
    "    torch.backends.cudnn.enabled = False\n",
    "    print(f'Set env random_seed = {seed}')\n",
    "\n",
    "    print('全局随机设置已完成')"
   ]
  },
  {
   "cell_type": "markdown",
   "metadata": {},
   "source": [
    "#### **3. 定义预处理文件的函数**"
   ]
  },
  {
   "cell_type": "code",
   "execution_count": 3,
   "metadata": {},
   "outputs": [],
   "source": [
    "def trans_seq(seq):\n",
    "    trans_result = []\n",
    "    encoder = {\n",
    "        'A': np.array([1, 0, 0, 0]),\n",
    "        'C': np.array([0, 1, 0, 0]),\n",
    "        'G': np.array([0, 0, 1, 0]),\n",
    "        'T': np.array([0, 0, 0, 1]),\n",
    "        'N': np.array([0.25, 0.25, 0.25, 0.25])\n",
    "    }\n",
    "    for base in seq:\n",
    "        trans_result.append(encoder[base])\n",
    "    return np.array(trans_result)\n",
    "\n",
    "def process_csv(filename):\n",
    "    df = pd.read_csv(filename)\n",
    "    df.head()\n",
    "    seqs = df['seq'].to_list()\n",
    "    seqs = np.array([list(seq) for seq in seqs])\n",
    "    results = df['result'].to_list()\n",
    "    results = np.array([1 if result == True else 0 for result in results])\n",
    "    trans_seqs = np.apply_along_axis(trans_seq, 1, seqs)\n",
    "    seq_tensor = torch.tensor(trans_seqs, dtype=torch.float32)\n",
    "    seq_tensor_trans = seq_tensor.transpose(1, 2)\n",
    "    results_tensor = torch.tensor(results, dtype=torch.float32)\n",
    "    \n",
    "    # 序列的张量维度为(num_of_samples, input_channels, seq_length)，这里的input_channels = 4，对应其中N使用了四个位置的均等编码方式\n",
    "    # 结果的张量维度为(num_of_samples, )\n",
    "    return seq_tensor_trans, results_tensor \n"
   ]
  },
  {
   "cell_type": "markdown",
   "metadata": {},
   "source": [
    "#### **4. 定义全局的参数字典，可以在我们后续调参过程中提供很大的方便**"
   ]
  },
  {
   "cell_type": "code",
   "execution_count": 4,
   "metadata": {},
   "outputs": [],
   "source": [
    "config = {\n",
    "    'batch_size': 64,\n",
    "    'kernel_size': 10,\n",
    "    'num_epochs': 50,\n",
    "    'padding_size':0,\n",
    "    'learning_rate':0.001,\n",
    "    'random_seed': 24,\n",
    "    'weight_decay':1e-4,\n",
    "    'dropout_probability_cnn':0.2,\n",
    "    'dropout_probability_linear':0.3,\n",
    "    'save_path': './models/model.ckpt'\n",
    "}"
   ]
  },
  {
   "cell_type": "markdown",
   "metadata": {},
   "source": [
    "#### **5. 搭建卷积神经网络和后续的全连接层**"
   ]
  },
  {
   "cell_type": "markdown",
   "metadata": {},
   "source": [
    "对于序列这种一维的数据，我们考虑使用1D卷积，这种卷积方式卷积核的移动是一维的，输入数据应该被整合为[`batch_size, input_channel, n_feature`]的格式  \n",
    "\n",
    "1D卷积的输出长度公式如下：\n",
    "$$\n",
    "\\text{Output Length} = \\left\\lfloor \\frac{\\text{Input Length} - \\text{Kernel Size} + 2 \\times \\text{Padding}}{\\text{Stride}} \\right\\rfloor + 1\n",
    "$$\n"
   ]
  },
  {
   "cell_type": "code",
   "execution_count": 5,
   "metadata": {},
   "outputs": [],
   "source": [
    "import torch\n",
    "import torch.nn as nn\n",
    "\n",
    "class DNA_CNN(nn.Module):\n",
    "    def __init__(self):\n",
    "        super(DNA_CNN, self).__init__()\n",
    "        self.model = nn.Sequential(\n",
    "            nn.Conv1d(in_channels=4, out_channels=32, kernel_size=config['kernel_size'], stride=1, padding=config['padding_size']),\n",
    "            nn.ReLU(inplace=True),\n",
    "            nn.MaxPool1d(kernel_size=2),\n",
    "\n",
    "            nn.Conv1d(in_channels=32, out_channels=64, kernel_size=config['kernel_size'], stride=1, padding=config['padding_size']),\n",
    "            nn.ReLU(inplace=True),\n",
    "            nn.MaxPool1d(kernel_size=2),\n",
    "\n",
    "            nn.Conv1d(in_channels=64, out_channels=128, kernel_size=config['kernel_size'], stride=1, padding=config['padding_size']),\n",
    "            nn.ReLU(inplace=True),\n",
    "\n",
    "            nn.AdaptiveMaxPool1d(20) # 自适应的池化层\n",
    "        )\n",
    "        \n",
    "        self.full_connection = nn.Sequential(\n",
    "            nn.Linear(128*20, 256),\n",
    "            nn.ReLU(inplace=True),\n",
    "            nn.Linear(256, 32),\n",
    "            nn.ReLU(inplace=True),\n",
    "            nn.Linear(32, 1),\n",
    "            nn.Sigmoid()\n",
    "        )\n",
    "\n",
    "    def forward(self, x):\n",
    "        x = self.model(x)\n",
    "        x = x.view(x.size(0), -1)\n",
    "        output = self.full_connection(x)\n",
    "        return output\n",
    "     "
   ]
  },
  {
   "cell_type": "markdown",
   "metadata": {},
   "source": [
    "#### **6. 建立数据集和数据加载器**"
   ]
  },
  {
   "cell_type": "code",
   "execution_count": 7,
   "metadata": {},
   "outputs": [
    {
     "name": "stdout",
     "output_type": "stream",
     "text": [
      "训练数据规模: torch.Size([6400, 4, 1000])\n",
      "验证数据规模: torch.Size([1600, 4, 1000])\n",
      "测试数据规模: torch.Size([2000, 4, 1000])\n"
     ]
    }
   ],
   "source": [
    "'''\n",
    "为了在训练中评估模型的性能，我将一部分的训练数据划分为validation dataset，并在每个epoch结束后评估模型在这个数据集上的表现。\n",
    "'''\n",
    "\n",
    "X_train, y_train = process_csv('K562_CTCF_train_seq_result.csv')\n",
    "X_train, X_valid, y_train, y_valid = train_test_split(X_train, y_train, test_size=0.2, random_state=config['random_seed']) # 提取0.2的训练数据作为验证集\n",
    "print('训练数据规模:',X_train.shape)\n",
    "print('验证数据规模:',X_valid.shape)\n",
    "\n",
    "X_test, y_test = process_csv('K562_CTCF_test_seq_result.csv')\n",
    "print('测试数据规模:',X_test.shape)\n",
    "\n",
    "train_data = TensorDataset(X_train, y_train)\n",
    "valid_data = TensorDataset(X_valid, y_valid)\n",
    "test_data = TensorDataset(X_test, y_test)\n",
    "\n",
    "'''\n",
    "创建DataLoader\n",
    "'''\n",
    "train_loader = DataLoader(train_data, batch_size=config['batch_size'], shuffle=True)\n",
    "valid_loader = DataLoader(valid_data, batch_size=config['batch_size'], shuffle=False)\n",
    "test_loader = DataLoader(test_data, batch_size=config['batch_size'], shuffle=False)"
   ]
  },
  {
   "cell_type": "markdown",
   "metadata": {},
   "source": [
    "#### **7. 模型训练**"
   ]
  },
  {
   "cell_type": "code",
   "execution_count": 8,
   "metadata": {},
   "outputs": [
    {
     "name": "stdout",
     "output_type": "stream",
     "text": [
      "Set env random_seed = 24\n",
      "全局随机设置已完成\n"
     ]
    },
    {
     "name": "stderr",
     "output_type": "stream",
     "text": [
      "Epoch [1/50]: 100%|██████████| 100/100 [00:02<00:00, 45.96it/s, loss=0.68916, acc=0.57812]\n"
     ]
    },
    {
     "name": "stdout",
     "output_type": "stream",
     "text": [
      "Epoch [1/50]: Train loss: 0.6923, acc: 0.5244, Valid loss: 0.6936, acc: 0.5044\n",
      "Saving model with loss 0.6936 and accuracy 0.5044...\n"
     ]
    },
    {
     "name": "stderr",
     "output_type": "stream",
     "text": [
      "Epoch [2/50]: 100%|██████████| 100/100 [00:01<00:00, 52.01it/s, loss=0.64233, acc=0.62500]\n"
     ]
    },
    {
     "name": "stdout",
     "output_type": "stream",
     "text": [
      "Epoch [2/50]: Train loss: 0.6648, acc: 0.5816, Valid loss: 0.6602, acc: 0.6069\n",
      "Saving model with loss 0.6602 and accuracy 0.6069...\n"
     ]
    },
    {
     "name": "stderr",
     "output_type": "stream",
     "text": [
      "Epoch [3/50]: 100%|██████████| 100/100 [00:01<00:00, 52.08it/s, loss=0.63021, acc=0.68750]\n"
     ]
    },
    {
     "name": "stdout",
     "output_type": "stream",
     "text": [
      "Epoch [3/50]: Train loss: 0.6388, acc: 0.6305, Valid loss: 0.6475, acc: 0.6356\n",
      "Saving model with loss 0.6475 and accuracy 0.6356...\n"
     ]
    },
    {
     "name": "stderr",
     "output_type": "stream",
     "text": [
      "Epoch [4/50]: 100%|██████████| 100/100 [00:01<00:00, 52.23it/s, loss=0.62875, acc=0.60938]\n"
     ]
    },
    {
     "name": "stdout",
     "output_type": "stream",
     "text": [
      "Epoch [4/50]: Train loss: 0.6354, acc: 0.6338, Valid loss: 0.6399, acc: 0.6200\n",
      "Saving model with loss 0.6399 and accuracy 0.6200...\n"
     ]
    },
    {
     "name": "stderr",
     "output_type": "stream",
     "text": [
      "Epoch [5/50]: 100%|██████████| 100/100 [00:01<00:00, 51.81it/s, loss=0.60380, acc=0.65625]\n"
     ]
    },
    {
     "name": "stdout",
     "output_type": "stream",
     "text": [
      "Epoch [5/50]: Train loss: 0.6351, acc: 0.6331, Valid loss: 0.6380, acc: 0.6288\n",
      "Saving model with loss 0.6380 and accuracy 0.6288...\n"
     ]
    },
    {
     "name": "stderr",
     "output_type": "stream",
     "text": [
      "Epoch [6/50]: 100%|██████████| 100/100 [00:01<00:00, 52.24it/s, loss=0.64403, acc=0.65625]\n"
     ]
    },
    {
     "name": "stdout",
     "output_type": "stream",
     "text": [
      "Epoch [6/50]: Train loss: 0.6348, acc: 0.6347, Valid loss: 0.6381, acc: 0.6288\n"
     ]
    },
    {
     "name": "stderr",
     "output_type": "stream",
     "text": [
      "Epoch [7/50]: 100%|██████████| 100/100 [00:01<00:00, 51.95it/s, loss=0.57273, acc=0.71875]\n"
     ]
    },
    {
     "name": "stdout",
     "output_type": "stream",
     "text": [
      "Epoch [7/50]: Train loss: 0.6263, acc: 0.6470, Valid loss: 0.6337, acc: 0.6356\n",
      "Saving model with loss 0.6337 and accuracy 0.6356...\n"
     ]
    },
    {
     "name": "stderr",
     "output_type": "stream",
     "text": [
      "Epoch [8/50]: 100%|██████████| 100/100 [00:01<00:00, 52.79it/s, loss=0.54246, acc=0.81250]\n"
     ]
    },
    {
     "name": "stdout",
     "output_type": "stream",
     "text": [
      "Epoch [8/50]: Train loss: 0.6276, acc: 0.6481, Valid loss: 0.6328, acc: 0.6438\n",
      "Saving model with loss 0.6328 and accuracy 0.6438...\n"
     ]
    },
    {
     "name": "stderr",
     "output_type": "stream",
     "text": [
      "Epoch [9/50]: 100%|██████████| 100/100 [00:01<00:00, 51.54it/s, loss=0.58929, acc=0.71875]\n"
     ]
    },
    {
     "name": "stdout",
     "output_type": "stream",
     "text": [
      "Epoch [9/50]: Train loss: 0.6217, acc: 0.6525, Valid loss: 0.6340, acc: 0.6456\n"
     ]
    },
    {
     "name": "stderr",
     "output_type": "stream",
     "text": [
      "Epoch [10/50]: 100%|██████████| 100/100 [00:01<00:00, 51.12it/s, loss=0.66396, acc=0.60938]\n"
     ]
    },
    {
     "name": "stdout",
     "output_type": "stream",
     "text": [
      "Epoch [10/50]: Train loss: 0.6155, acc: 0.6623, Valid loss: 0.6402, acc: 0.6344\n"
     ]
    },
    {
     "name": "stderr",
     "output_type": "stream",
     "text": [
      "Epoch [11/50]: 100%|██████████| 100/100 [00:01<00:00, 51.07it/s, loss=0.56473, acc=0.73438]\n"
     ]
    },
    {
     "name": "stdout",
     "output_type": "stream",
     "text": [
      "Epoch [11/50]: Train loss: 0.6005, acc: 0.6775, Valid loss: 0.6022, acc: 0.6819\n",
      "Saving model with loss 0.6022 and accuracy 0.6819...\n"
     ]
    },
    {
     "name": "stderr",
     "output_type": "stream",
     "text": [
      "Epoch [12/50]: 100%|██████████| 100/100 [00:01<00:00, 52.56it/s, loss=0.52107, acc=0.70312]\n"
     ]
    },
    {
     "name": "stdout",
     "output_type": "stream",
     "text": [
      "Epoch [12/50]: Train loss: 0.5381, acc: 0.7373, Valid loss: 0.5211, acc: 0.7556\n",
      "Saving model with loss 0.5211 and accuracy 0.7556...\n"
     ]
    },
    {
     "name": "stderr",
     "output_type": "stream",
     "text": [
      "Epoch [13/50]: 100%|██████████| 100/100 [00:01<00:00, 53.83it/s, loss=0.64391, acc=0.70312]\n"
     ]
    },
    {
     "name": "stdout",
     "output_type": "stream",
     "text": [
      "Epoch [13/50]: Train loss: 0.4753, acc: 0.7825, Valid loss: 0.5042, acc: 0.7675\n",
      "Saving model with loss 0.5042 and accuracy 0.7675...\n"
     ]
    },
    {
     "name": "stderr",
     "output_type": "stream",
     "text": [
      "Epoch [14/50]: 100%|██████████| 100/100 [00:01<00:00, 53.65it/s, loss=0.48158, acc=0.71875]\n"
     ]
    },
    {
     "name": "stdout",
     "output_type": "stream",
     "text": [
      "Epoch [14/50]: Train loss: 0.4389, acc: 0.8047, Valid loss: 0.4536, acc: 0.7937\n",
      "Saving model with loss 0.4536 and accuracy 0.7937...\n"
     ]
    },
    {
     "name": "stderr",
     "output_type": "stream",
     "text": [
      "Epoch [15/50]: 100%|██████████| 100/100 [00:01<00:00, 52.90it/s, loss=0.45113, acc=0.79688]\n"
     ]
    },
    {
     "name": "stdout",
     "output_type": "stream",
     "text": [
      "Epoch [15/50]: Train loss: 0.3971, acc: 0.8289, Valid loss: 0.4258, acc: 0.8206\n",
      "Saving model with loss 0.4258 and accuracy 0.8206...\n"
     ]
    },
    {
     "name": "stderr",
     "output_type": "stream",
     "text": [
      "Epoch [16/50]: 100%|██████████| 100/100 [00:01<00:00, 53.00it/s, loss=0.37099, acc=0.81250]\n"
     ]
    },
    {
     "name": "stdout",
     "output_type": "stream",
     "text": [
      "Epoch [16/50]: Train loss: 0.3636, acc: 0.8445, Valid loss: 0.4258, acc: 0.8244\n"
     ]
    },
    {
     "name": "stderr",
     "output_type": "stream",
     "text": [
      "Epoch [17/50]: 100%|██████████| 100/100 [00:01<00:00, 52.24it/s, loss=0.26003, acc=0.92188]\n"
     ]
    },
    {
     "name": "stdout",
     "output_type": "stream",
     "text": [
      "Epoch [17/50]: Train loss: 0.3420, acc: 0.8569, Valid loss: 0.4285, acc: 0.8163\n"
     ]
    },
    {
     "name": "stderr",
     "output_type": "stream",
     "text": [
      "Epoch [18/50]: 100%|██████████| 100/100 [00:01<00:00, 54.16it/s, loss=0.45985, acc=0.78125]\n"
     ]
    },
    {
     "name": "stdout",
     "output_type": "stream",
     "text": [
      "Epoch [18/50]: Train loss: 0.3178, acc: 0.8697, Valid loss: 0.4396, acc: 0.8137\n"
     ]
    },
    {
     "name": "stderr",
     "output_type": "stream",
     "text": [
      "Epoch [19/50]: 100%|██████████| 100/100 [00:01<00:00, 53.10it/s, loss=0.31949, acc=0.89062]\n"
     ]
    },
    {
     "name": "stdout",
     "output_type": "stream",
     "text": [
      "Epoch [19/50]: Train loss: 0.2959, acc: 0.8812, Valid loss: 0.4286, acc: 0.8175\n"
     ]
    },
    {
     "name": "stderr",
     "output_type": "stream",
     "text": [
      "Epoch [20/50]: 100%|██████████| 100/100 [00:01<00:00, 52.20it/s, loss=0.19627, acc=0.93750]\n"
     ]
    },
    {
     "name": "stdout",
     "output_type": "stream",
     "text": [
      "Epoch [20/50]: Train loss: 0.2694, acc: 0.8939, Valid loss: 0.4770, acc: 0.8119\n"
     ]
    },
    {
     "name": "stderr",
     "output_type": "stream",
     "text": [
      "Epoch [21/50]: 100%|██████████| 100/100 [00:01<00:00, 52.13it/s, loss=0.30376, acc=0.89062]\n"
     ]
    },
    {
     "name": "stdout",
     "output_type": "stream",
     "text": [
      "Epoch [21/50]: Train loss: 0.2426, acc: 0.9058, Valid loss: 0.4713, acc: 0.8100\n"
     ]
    },
    {
     "name": "stderr",
     "output_type": "stream",
     "text": [
      "Epoch [22/50]: 100%|██████████| 100/100 [00:01<00:00, 52.55it/s, loss=0.29802, acc=0.84375]\n"
     ]
    },
    {
     "name": "stdout",
     "output_type": "stream",
     "text": [
      "Epoch [22/50]: Train loss: 0.2323, acc: 0.9070, Valid loss: 0.4876, acc: 0.8150\n"
     ]
    },
    {
     "name": "stderr",
     "output_type": "stream",
     "text": [
      "Epoch [23/50]: 100%|██████████| 100/100 [00:01<00:00, 53.31it/s, loss=0.14438, acc=0.96875]\n"
     ]
    },
    {
     "name": "stdout",
     "output_type": "stream",
     "text": [
      "Epoch [23/50]: Train loss: 0.1957, acc: 0.9266, Valid loss: 0.5533, acc: 0.8125\n"
     ]
    },
    {
     "name": "stderr",
     "output_type": "stream",
     "text": [
      "Epoch [24/50]: 100%|██████████| 100/100 [00:01<00:00, 52.29it/s, loss=0.10262, acc=0.95312]\n"
     ]
    },
    {
     "name": "stdout",
     "output_type": "stream",
     "text": [
      "Epoch [24/50]: Train loss: 0.1829, acc: 0.9309, Valid loss: 0.5476, acc: 0.8069\n"
     ]
    },
    {
     "name": "stderr",
     "output_type": "stream",
     "text": [
      "Epoch [25/50]: 100%|██████████| 100/100 [00:01<00:00, 54.43it/s, loss=0.10041, acc=0.96875]\n"
     ]
    },
    {
     "name": "stdout",
     "output_type": "stream",
     "text": [
      "Epoch [25/50]: Train loss: 0.1564, acc: 0.9427, Valid loss: 0.5791, acc: 0.8106\n"
     ]
    },
    {
     "name": "stderr",
     "output_type": "stream",
     "text": [
      "Epoch [26/50]: 100%|██████████| 100/100 [00:01<00:00, 52.67it/s, loss=0.14142, acc=0.96875]\n"
     ]
    },
    {
     "name": "stdout",
     "output_type": "stream",
     "text": [
      "Epoch [26/50]: Train loss: 0.1148, acc: 0.9617, Valid loss: 0.6350, acc: 0.8087\n"
     ]
    },
    {
     "name": "stderr",
     "output_type": "stream",
     "text": [
      "Epoch [27/50]: 100%|██████████| 100/100 [00:01<00:00, 52.15it/s, loss=0.04379, acc=1.00000]\n"
     ]
    },
    {
     "name": "stdout",
     "output_type": "stream",
     "text": [
      "Epoch [27/50]: Train loss: 0.0861, acc: 0.9731, Valid loss: 0.7663, acc: 0.8075\n"
     ]
    },
    {
     "name": "stderr",
     "output_type": "stream",
     "text": [
      "Epoch [28/50]: 100%|██████████| 100/100 [00:01<00:00, 52.81it/s, loss=0.03141, acc=1.00000]\n"
     ]
    },
    {
     "name": "stdout",
     "output_type": "stream",
     "text": [
      "Epoch [28/50]: Train loss: 0.0751, acc: 0.9764, Valid loss: 0.8041, acc: 0.8019\n"
     ]
    },
    {
     "name": "stderr",
     "output_type": "stream",
     "text": [
      "Epoch [29/50]: 100%|██████████| 100/100 [00:01<00:00, 52.70it/s, loss=0.09919, acc=0.96875]\n"
     ]
    },
    {
     "name": "stdout",
     "output_type": "stream",
     "text": [
      "Epoch [29/50]: Train loss: 0.0755, acc: 0.9761, Valid loss: 0.9604, acc: 0.8113\n"
     ]
    },
    {
     "name": "stderr",
     "output_type": "stream",
     "text": [
      "Epoch [30/50]: 100%|██████████| 100/100 [00:01<00:00, 52.88it/s, loss=0.14061, acc=0.93750]\n"
     ]
    },
    {
     "name": "stdout",
     "output_type": "stream",
     "text": [
      "Epoch [30/50]: Train loss: 0.0588, acc: 0.9805, Valid loss: 1.1563, acc: 0.7981\n"
     ]
    },
    {
     "name": "stderr",
     "output_type": "stream",
     "text": [
      "Epoch [31/50]: 100%|██████████| 100/100 [00:01<00:00, 53.48it/s, loss=0.03127, acc=0.98438]\n"
     ]
    },
    {
     "name": "stdout",
     "output_type": "stream",
     "text": [
      "Epoch [31/50]: Train loss: 0.0537, acc: 0.9812, Valid loss: 1.1714, acc: 0.8025\n"
     ]
    },
    {
     "name": "stderr",
     "output_type": "stream",
     "text": [
      "Epoch [32/50]: 100%|██████████| 100/100 [00:01<00:00, 51.96it/s, loss=0.11259, acc=0.96875]\n"
     ]
    },
    {
     "name": "stdout",
     "output_type": "stream",
     "text": [
      "Epoch [32/50]: Train loss: 0.0317, acc: 0.9906, Valid loss: 1.2596, acc: 0.8025\n"
     ]
    },
    {
     "name": "stderr",
     "output_type": "stream",
     "text": [
      "Epoch [33/50]: 100%|██████████| 100/100 [00:01<00:00, 52.23it/s, loss=0.00434, acc=1.00000]\n"
     ]
    },
    {
     "name": "stdout",
     "output_type": "stream",
     "text": [
      "Epoch [33/50]: Train loss: 0.0180, acc: 0.9953, Valid loss: 1.4460, acc: 0.8075\n"
     ]
    },
    {
     "name": "stderr",
     "output_type": "stream",
     "text": [
      "Epoch [34/50]: 100%|██████████| 100/100 [00:01<00:00, 52.75it/s, loss=0.01135, acc=1.00000]\n"
     ]
    },
    {
     "name": "stdout",
     "output_type": "stream",
     "text": [
      "Epoch [34/50]: Train loss: 0.0100, acc: 0.9981, Valid loss: 1.7549, acc: 0.8075\n"
     ]
    },
    {
     "name": "stderr",
     "output_type": "stream",
     "text": [
      "Epoch [35/50]: 100%|██████████| 100/100 [00:01<00:00, 53.02it/s, loss=0.00261, acc=1.00000]\n"
     ]
    },
    {
     "name": "stdout",
     "output_type": "stream",
     "text": [
      "Epoch [35/50]: Train loss: 0.0049, acc: 0.9988, Valid loss: 1.8377, acc: 0.8075\n"
     ]
    },
    {
     "name": "stderr",
     "output_type": "stream",
     "text": [
      "Epoch [36/50]: 100%|██████████| 100/100 [00:01<00:00, 51.87it/s, loss=0.00408, acc=1.00000]\n"
     ]
    },
    {
     "name": "stdout",
     "output_type": "stream",
     "text": [
      "Epoch [36/50]: Train loss: 0.0022, acc: 1.0000, Valid loss: 1.8836, acc: 0.8087\n"
     ]
    },
    {
     "name": "stderr",
     "output_type": "stream",
     "text": [
      "Epoch [37/50]: 100%|██████████| 100/100 [00:01<00:00, 52.38it/s, loss=0.00151, acc=1.00000]\n"
     ]
    },
    {
     "name": "stdout",
     "output_type": "stream",
     "text": [
      "Epoch [37/50]: Train loss: 0.0013, acc: 1.0000, Valid loss: 2.1217, acc: 0.8087\n"
     ]
    },
    {
     "name": "stderr",
     "output_type": "stream",
     "text": [
      "Epoch [38/50]: 100%|██████████| 100/100 [00:01<00:00, 52.34it/s, loss=0.00133, acc=1.00000]\n"
     ]
    },
    {
     "name": "stdout",
     "output_type": "stream",
     "text": [
      "Epoch [38/50]: Train loss: 0.0011, acc: 1.0000, Valid loss: 2.2360, acc: 0.8069\n"
     ]
    },
    {
     "name": "stderr",
     "output_type": "stream",
     "text": [
      "Epoch [39/50]: 100%|██████████| 100/100 [00:01<00:00, 52.78it/s, loss=0.00321, acc=1.00000]\n"
     ]
    },
    {
     "name": "stdout",
     "output_type": "stream",
     "text": [
      "Epoch [39/50]: Train loss: 0.0010, acc: 1.0000, Valid loss: 2.0376, acc: 0.8106\n"
     ]
    },
    {
     "name": "stderr",
     "output_type": "stream",
     "text": [
      "Epoch [40/50]: 100%|██████████| 100/100 [00:01<00:00, 52.40it/s, loss=0.00105, acc=1.00000]\n"
     ]
    },
    {
     "name": "stdout",
     "output_type": "stream",
     "text": [
      "Epoch [40/50]: Train loss: 0.0008, acc: 1.0000, Valid loss: 2.1593, acc: 0.8094\n"
     ]
    },
    {
     "name": "stderr",
     "output_type": "stream",
     "text": [
      "Epoch [41/50]: 100%|██████████| 100/100 [00:01<00:00, 51.51it/s, loss=0.00138, acc=1.00000]\n"
     ]
    },
    {
     "name": "stdout",
     "output_type": "stream",
     "text": [
      "Epoch [41/50]: Train loss: 0.0007, acc: 1.0000, Valid loss: 2.1918, acc: 0.8100\n"
     ]
    },
    {
     "name": "stderr",
     "output_type": "stream",
     "text": [
      "Epoch [42/50]: 100%|██████████| 100/100 [00:01<00:00, 51.74it/s, loss=0.00047, acc=1.00000]\n"
     ]
    },
    {
     "name": "stdout",
     "output_type": "stream",
     "text": [
      "Epoch [42/50]: Train loss: 0.0006, acc: 1.0000, Valid loss: 2.1974, acc: 0.8094\n"
     ]
    },
    {
     "name": "stderr",
     "output_type": "stream",
     "text": [
      "Epoch [43/50]: 100%|██████████| 100/100 [00:01<00:00, 50.66it/s, loss=0.00066, acc=1.00000]\n"
     ]
    },
    {
     "name": "stdout",
     "output_type": "stream",
     "text": [
      "Epoch [43/50]: Train loss: 0.0006, acc: 1.0000, Valid loss: 2.2102, acc: 0.8100\n"
     ]
    },
    {
     "name": "stderr",
     "output_type": "stream",
     "text": [
      "Epoch [44/50]: 100%|██████████| 100/100 [00:01<00:00, 51.83it/s, loss=0.00050, acc=1.00000]\n"
     ]
    },
    {
     "name": "stdout",
     "output_type": "stream",
     "text": [
      "Epoch [44/50]: Train loss: 0.0005, acc: 1.0000, Valid loss: 2.1628, acc: 0.8081\n"
     ]
    },
    {
     "name": "stderr",
     "output_type": "stream",
     "text": [
      "Epoch [45/50]: 100%|██████████| 100/100 [00:01<00:00, 52.96it/s, loss=0.00076, acc=1.00000]\n"
     ]
    },
    {
     "name": "stdout",
     "output_type": "stream",
     "text": [
      "Epoch [45/50]: Train loss: 0.0005, acc: 1.0000, Valid loss: 2.1579, acc: 0.8063\n"
     ]
    },
    {
     "name": "stderr",
     "output_type": "stream",
     "text": [
      "Epoch [46/50]: 100%|██████████| 100/100 [00:01<00:00, 52.21it/s, loss=0.00038, acc=1.00000]\n"
     ]
    },
    {
     "name": "stdout",
     "output_type": "stream",
     "text": [
      "Epoch [46/50]: Train loss: 0.0005, acc: 1.0000, Valid loss: 2.1633, acc: 0.8063\n"
     ]
    },
    {
     "name": "stderr",
     "output_type": "stream",
     "text": [
      "Epoch [47/50]: 100%|██████████| 100/100 [00:01<00:00, 52.38it/s, loss=0.00029, acc=1.00000]\n"
     ]
    },
    {
     "name": "stdout",
     "output_type": "stream",
     "text": [
      "Epoch [47/50]: Train loss: 0.0005, acc: 1.0000, Valid loss: 2.1513, acc: 0.8094\n"
     ]
    },
    {
     "name": "stderr",
     "output_type": "stream",
     "text": [
      "Epoch [48/50]: 100%|██████████| 100/100 [00:01<00:00, 52.03it/s, loss=0.00025, acc=1.00000]\n"
     ]
    },
    {
     "name": "stdout",
     "output_type": "stream",
     "text": [
      "Epoch [48/50]: Train loss: 0.0005, acc: 1.0000, Valid loss: 2.0416, acc: 0.8075\n"
     ]
    },
    {
     "name": "stderr",
     "output_type": "stream",
     "text": [
      "Epoch [49/50]: 100%|██████████| 100/100 [00:01<00:00, 53.18it/s, loss=0.00091, acc=1.00000]\n"
     ]
    },
    {
     "name": "stdout",
     "output_type": "stream",
     "text": [
      "Epoch [49/50]: Train loss: 0.0005, acc: 1.0000, Valid loss: 2.0391, acc: 0.8063\n"
     ]
    },
    {
     "name": "stderr",
     "output_type": "stream",
     "text": [
      "Epoch [50/50]: 100%|██████████| 100/100 [00:01<00:00, 52.25it/s, loss=0.00046, acc=1.00000]\n"
     ]
    },
    {
     "name": "stdout",
     "output_type": "stream",
     "text": [
      "Epoch [50/50]: Train loss: 0.0005, acc: 1.0000, Valid loss: 2.0318, acc: 0.8081\n"
     ]
    }
   ],
   "source": [
    "def trainer(train_loader, valid_loader, model, config, device):\n",
    "    criterion = nn.BCELoss() \n",
    "    optimizer = torch.optim.Adam(model.parameters(), lr=config['learning_rate'], weight_decay=config['weight_decay'])\n",
    "\n",
    "    # 创建保存模型的目录\n",
    "    if not os.path.isdir('./models'):\n",
    "        os.mkdir('./models')\n",
    "    \n",
    "    save_path = config['save_path']\n",
    "    best_loss = math.inf\n",
    "    best_accuracy = 0\n",
    "\n",
    "    for epoch in range(config['num_epochs']):\n",
    "        model.train() \n",
    "        train_loss_record = []\n",
    "        train_accs = []\n",
    "        train_pbar = tqdm(train_loader, position=0, leave=True)\n",
    "\n",
    "        for inputs, labels in train_pbar:\n",
    "            optimizer.zero_grad()  \n",
    "            inputs, labels = inputs.to(device), labels.to(device) \n",
    "\n",
    "            outputs = model(inputs)\n",
    "            outputs = outputs.squeeze()  \n",
    "            loss = criterion(outputs, labels.float()) \n",
    "\n",
    "            loss.backward() \n",
    "            if config.get('clip_flag', False):\n",
    "                nn.utils.clip_grad_norm_(model.parameters(), max_norm=10) \n",
    "            optimizer.step() \n",
    "\n",
    "            acc = ((outputs > 0.5).float() == labels).float().mean()  # 计算准确率\n",
    "            train_loss_record.append(loss.item())\n",
    "            train_accs.append(acc.item())\n",
    "\n",
    "            train_pbar.set_description(f'Epoch [{epoch+1}/{config[\"num_epochs\"]}]')\n",
    "            train_pbar.set_postfix({'loss': f'{loss.item():.5f}', 'acc': f'{acc.item():.5f}'})\n",
    "        \n",
    "        mean_train_acc = sum(train_accs) / len(train_accs)\n",
    "        mean_train_loss = sum(train_loss_record) / len(train_loss_record)\n",
    "\n",
    "        # 验证集评估\n",
    "        model.eval()  \n",
    "        valid_loss_record = []\n",
    "        valid_accs = []\n",
    "        with torch.no_grad():\n",
    "            for inputs, labels in valid_loader:\n",
    "                inputs, labels = inputs.to(device), labels.to(device)\n",
    "\n",
    "                outputs = model(inputs)\n",
    "                outputs = outputs.squeeze()\n",
    "                loss = criterion(outputs, labels.float())\n",
    "                acc = ((outputs > 0.5).float() == labels).float().mean()\n",
    "\n",
    "                valid_loss_record.append(loss.item())\n",
    "                valid_accs.append(acc.item())\n",
    "        \n",
    "        mean_valid_acc = sum(valid_accs) / len(valid_accs)\n",
    "        mean_valid_loss = sum(valid_loss_record) / len(valid_loss_record)\n",
    "\n",
    "        print(f'Epoch [{epoch+1}/{config[\"num_epochs\"]}]: Train loss: {mean_train_loss:.4f}, acc: {mean_train_acc:.4f}, Valid loss: {mean_valid_loss:.4f}, acc: {mean_valid_acc:.4f}')\n",
    "\n",
    "        if mean_valid_loss < best_loss:\n",
    "            best_accuracy = mean_valid_acc\n",
    "            best_loss = mean_valid_loss\n",
    "            torch.save(model.state_dict(), save_path)\n",
    "            print(f'Saving model with loss {best_loss:.4f} and accuracy {best_accuracy:.4f}...')\n",
    "            \n",
    "\n",
    "\n",
    "def main():\n",
    "\n",
    "    all_seed(config['random_seed'])\n",
    "    \n",
    "    # 使用笔记本显卡加速训练\n",
    "    device = torch.device(\"cuda\" if torch.cuda.is_available() else \"cpu\")\n",
    "\n",
    "    model = DNA_CNN().to(device)\n",
    "\n",
    "    trainer(train_loader, valid_loader, model, config, device)\n",
    "\n",
    "main()"
   ]
  },
  {
   "cell_type": "markdown",
   "metadata": {},
   "source": [
    "#### **8. 测试集上来评估模型的效能**"
   ]
  },
  {
   "cell_type": "code",
   "execution_count": 9,
   "metadata": {},
   "outputs": [
    {
     "name": "stdout",
     "output_type": "stream",
     "text": [
      "Loaded model weights from ./models/model.ckpt\n",
      "测试集准确率: 80.80%\n",
      "分类报告:\n",
      "              precision    recall  f1-score   support\n",
      "\n",
      "         0.0       0.79      0.83      0.81       979\n",
      "         1.0       0.83      0.79      0.81      1021\n",
      "\n",
      "    accuracy                           0.81      2000\n",
      "   macro avg       0.81      0.81      0.81      2000\n",
      "weighted avg       0.81      0.81      0.81      2000\n",
      "\n"
     ]
    }
   ],
   "source": [
    "# 加载保存的最佳模型\n",
    "def load_best_model(model, save_path, device):\n",
    "    model.load_state_dict(torch.load(save_path))\n",
    "    model.to(device)  \n",
    "    model.eval()  # 切换为评估模式\n",
    "    print(f\"Loaded model weights from {save_path}\")\n",
    "    return model\n",
    "\n",
    "# 使用保存的模型进行测试评估\n",
    "def evaluate_on_test_set(test_loader, model, device):\n",
    "    all_preds = []\n",
    "    all_labels = []\n",
    "    \n",
    "    with torch.no_grad():\n",
    "        for inputs, labels in test_loader:\n",
    "            inputs, labels = inputs.to(device), labels.to(device)\n",
    "            \n",
    "            outputs = model(inputs)\n",
    "            predicted = (outputs.squeeze() > 0.5).float()\n",
    "            \n",
    "            all_preds.extend(predicted.cpu().numpy()) \n",
    "            all_labels.extend(labels.cpu().numpy()) \n",
    "    \n",
    "    accuracy = accuracy_score(all_labels, all_preds)\n",
    "    print(f'测试集准确率: {accuracy * 100:.2f}%')\n",
    "    \n",
    "    report = classification_report(all_labels, all_preds)\n",
    "    print(\"分类报告:\")\n",
    "    print(report)\n",
    "\n",
    "model = DNA_CNN()  \n",
    "device = torch.device(\"cuda\" if torch.cuda.is_available() else \"cpu\")\n",
    "\n",
    "# 加载保存的最佳模型权重\n",
    "model = load_best_model(model, config['save_path'], device)\n",
    "\n",
    "# 使用加载的模型评估测试集\n",
    "evaluate_on_test_set(test_loader, model, device)\n"
   ]
  },
  {
   "cell_type": "markdown",
   "metadata": {},
   "source": [
    "**可以看到，配合卷积神经网络之后，模型的预测能力有了很大的提升，整体准确率可以达到81%左右，值得一提的是，对于网络的结构调整以及一些超参数调整，对于模型性能的提升不大，个人认为模型对于这个不复杂的二分类任务还是相对较大的，准确率不能再提升的原因可能是数据编码的策略/数据集的质量问题。**"
   ]
  }
 ],
 "metadata": {
  "kernelspec": {
   "display_name": "pytorch",
   "language": "python",
   "name": "python3"
  },
  "language_info": {
   "codemirror_mode": {
    "name": "ipython",
    "version": 3
   },
   "file_extension": ".py",
   "mimetype": "text/x-python",
   "name": "python",
   "nbconvert_exporter": "python",
   "pygments_lexer": "ipython3",
   "version": "3.11.9"
  }
 },
 "nbformat": 4,
 "nbformat_minor": 2
}
